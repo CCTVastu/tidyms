{
 "cells": [
  {
   "cell_type": "code",
   "execution_count": null,
   "metadata": {},
   "outputs": [],
   "source": [
    "import numpy as np\n",
    "import pandas as pd\n",
    "import ms_feature_validation as mfv\n",
    "import bokeh.plotting\n",
    "bokeh.plotting.output_notebook()\n",
    "import matplotlib.pyplot as plt"
   ]
  },
  {
   "cell_type": "code",
   "execution_count": null,
   "metadata": {},
   "outputs": [],
   "source": [
    "data = mfv.fileio.read_progenesis(\"../examples/SuerosRCC_ESi_neg_default_SepOct2017.csv\")\n",
    "\n",
    "# adding order and batch information\n",
    "temp = pd.Series(data=data.sample_metadata.index.str.split(\"_\"),\n",
    "                 index=data.sample_metadata.index)\n",
    "order = temp.apply(lambda x: x[-1]).astype(int)\n",
    "dates = temp.apply(lambda x: x[1])\n",
    "dates_to_batch = dict(zip(dates.unique(), range(1, dates.size + 1)))\n",
    "batch = (temp.apply(lambda x: dates_to_batch[x[1]])).astype(int)\n",
    "\n",
    "def convert_to_global_run_order(order, batch):\n",
    "    max_order = order.groupby(batch).max()\n",
    "    max_order[0] = 0\n",
    "    max_order = max_order.sort_index()\n",
    "    max_order = max_order.cumsum()\n",
    "    global_run_order = order + batch.apply(lambda x: max_order[x - 1])\n",
    "    return global_run_order\n",
    "\n",
    "data.order = convert_to_global_run_order(order, batch)\n",
    "data.batch = batch\n",
    "data.id = data.sample_metadata.index\n",
    "\n",
    "# setup sample types\n",
    "sample_mapping = {\"qc\": [\"QC\"],\n",
    "                  \"blank\": [\"SV\"],\n",
    "                  \"sample\": [\"CS\", \"EI\", \"EII\", \"EIII\", \"EIV\", \"EI2\", \"EII2\",\n",
    "                             \"EIII2\", \"EIV2\", \"Crb\", \"Pa\"]}\n",
    "data.mapping = sample_mapping"
   ]
  },
  {
   "cell_type": "code",
   "execution_count": null,
   "metadata": {},
   "outputs": [],
   "source": [
    "cr = mfv.filter.ClassRemover([\"Sarc\", \"B\", \"O\", \"Onc\", \"EII2\", \"Pa\"])\n",
    "bc = mfv.filter.BlankCorrector()\n",
    "pf = mfv.filter.PrevalenceFilter(lb=0.8)\n",
    "vf = mfv.filter.VariationFilter(ub=0.25)\n",
    "pipeline = mfv.filter.Pipeline([cr, bc, pf, vf], verbose=True)\n",
    "pipeline.process(data)\n",
    "rm_cols = data.data_matrix.columns.difference(data.data_matrix.columns[220:240])\n",
    "data.remove(rm_cols, axis=\"features\") \n",
    "data.sample_metadata = data.sample_metadata.sort_values(\"order\")\n",
    "data.data_matrix = data.data_matrix.loc[data.sample_metadata.index, :]\n",
    "\n",
    "# batch_checker = mfv.filter.BatchSchemeChecker()\n",
    "# batch_checker.process(data)\n",
    "# batch_prevalence = mfv.filter.BatchPrevalenceChecker()\n",
    "# batch_prevalence.process(data)"
   ]
  },
  {
   "cell_type": "code",
   "execution_count": null,
   "metadata": {},
   "outputs": [],
   "source": [
    "fig, ax = plt.subplots(figsize=(12, 8))\n",
    "data.data_matrix[data.classes == \"QC\"].plot(ax=ax)"
   ]
  },
  {
   "cell_type": "code",
   "execution_count": null,
   "metadata": {},
   "outputs": [],
   "source": [
    "batch_corrector = mfv.filter.BatchCorrector(n_min=4)\n",
    "batch_corrector.process(data)"
   ]
  },
  {
   "cell_type": "code",
   "execution_count": null,
   "metadata": {},
   "outputs": [],
   "source": [
    "fig, ax = plt.subplots(figsize=(12, 8))\n",
    "data.data_matrix[data.classes == \"QC\"].plot(ax=ax)"
   ]
  },
  {
   "cell_type": "code",
   "execution_count": null,
   "metadata": {},
   "outputs": [],
   "source": [
    "data.plot.pca_scores(color_by=\"type\");"
   ]
  },
  {
   "cell_type": "code",
   "execution_count": null,
   "metadata": {},
   "outputs": [],
   "source": [
    "data.data_matrix.shape"
   ]
  },
  {
   "cell_type": "code",
   "execution_count": null,
   "metadata": {},
   "outputs": [],
   "source": [
    "data.sample_metadata"
   ]
  },
  {
   "cell_type": "code",
   "execution_count": null,
   "metadata": {},
   "outputs": [],
   "source": [
    "data.sample_metadata"
   ]
  },
  {
   "cell_type": "code",
   "execution_count": null,
   "metadata": {},
   "outputs": [],
   "source": []
  }
 ],
 "metadata": {
  "kernelspec": {
   "display_name": "Python 3",
   "language": "python",
   "name": "python3"
  },
  "language_info": {
   "codemirror_mode": {
    "name": "ipython",
    "version": 3
   },
   "file_extension": ".py",
   "mimetype": "text/x-python",
   "name": "python",
   "nbconvert_exporter": "python",
   "pygments_lexer": "ipython3",
   "version": "3.7.3"
  }
 },
 "nbformat": 4,
 "nbformat_minor": 2
}
