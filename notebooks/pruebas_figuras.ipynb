{
 "cells": [
  {
   "cell_type": "code",
   "execution_count": null,
   "metadata": {},
   "outputs": [],
   "source": [
    "import numpy as np\n",
    "import pandas as pd\n",
    "import ms_feature_validation as mfv\n",
    "import bokeh.plotting\n",
    "bokeh.plotting.output_notebook()\n",
    "import matplotlib.pyplot as plt"
   ]
  },
  {
   "cell_type": "code",
   "execution_count": null,
   "metadata": {},
   "outputs": [],
   "source": [
    "data = mfv.fileio.read_progenesis(\"../examples/SuerosRCC_ESi_neg_default_SepOct2017.csv\")\n",
    "\n",
    "# adding order and batch information\n",
    "temp = pd.Series(data=data.sample_metadata.index.str.split(\"_\"),\n",
    "                 index=data.sample_metadata.index)\n",
    "order = temp.apply(lambda x: x[-1]).astype(int)\n",
    "dates = temp.apply(lambda x: x[1])\n",
    "dates_to_batch = dict(zip(dates.unique(), range(1, dates.size + 1)))\n",
    "batch = (temp.apply(lambda x: dates_to_batch[x[1]])).astype(int)\n",
    "\n",
    "def convert_to_global_run_order(order, batch):\n",
    "    max_order = order.groupby(batch).max()\n",
    "    max_order[0] = 0\n",
    "    max_order = max_order.sort_index()\n",
    "    max_order = max_order.cumsum()\n",
    "    global_run_order = order + batch.apply(lambda x: max_order[x - 1])\n",
    "    return global_run_order\n",
    "\n",
    "data.order = convert_to_global_run_order(order, batch)\n",
    "data.batch = batch\n",
    "data.id = data.sample_metadata.index\n",
    "\n",
    "# setup sample types\n",
    "sample_mapping = {\"qc\": [\"QC\"],\n",
    "                  \"blank\": [\"SV\"],\n",
    "                  \"sample\": [\"CS\", \"EI\", \"EII\", \"EIII\", \"EIV\", \"EI2\", \"EII2\",\n",
    "                             \"EIII2\", \"EIV2\", \"Crb\", \"Pa\"]}\n",
    "data.mapping = sample_mapping"
   ]
  },
  {
   "cell_type": "code",
   "execution_count": null,
   "metadata": {},
   "outputs": [],
   "source": [
    "# cr = mfv.filter.ClassRemover([\"Sarc\", \"B\", \"O\", \"Onc\", \"EII2\", \"Pa\"])\n",
    "# bc = mfv.filter.BlankCorrector()\n",
    "# pf = mfv.filter.PrevalenceFilter(lb=0.8)\n",
    "# vf = mfv.filter.VariationFilter(ub=0.25)\n",
    "batch_checker = mfv.filter.BatchSchemeChecker()\n",
    "batch_checker.process(data)\n",
    "batch_prevalence = mfv.filter.BatchPrevalenceChecker()\n",
    "batch_prevalence.process(data)\n",
    "# pipeline = mfv.filter.Pipeline([cr, bc, pf, vf])\n",
    "# pipeline.process(data)"
   ]
  },
  {
   "cell_type": "code",
   "execution_count": null,
   "metadata": {},
   "outputs": [],
   "source": [
    "data.data_matrix.shape"
   ]
  },
  {
   "cell_type": "code",
   "execution_count": null,
   "metadata": {},
   "outputs": [],
   "source": [
    "data.plot.pca_scores(color_by=\"type\");"
   ]
  },
  {
   "cell_type": "code",
   "execution_count": null,
   "metadata": {},
   "outputs": [],
   "source": [
    "data.plot.pca_loadings()"
   ]
  },
  {
   "cell_type": "code",
   "execution_count": null,
   "metadata": {},
   "outputs": [],
   "source": [
    "sample_classes = data.mapping[\"sample\"]\n",
    "qc_classes = [\"QC\"]\n",
    "\n",
    "def get_ext_per_batch(order, batch, classes, class_list, ext):\n",
    "    mask = classes.isin(class_list)\n",
    "    func = {\"min\": lambda x: x.min(), \"max\": lambda x: x.max()}\n",
    "    func = func[ext]\n",
    "    ext_order = (order[mask]\n",
    "                 .groupby([classes[mask], batch[mask]])\n",
    "                 .pipe(func)\n",
    "                 .reset_index()\n",
    "                 .pivot(index=classes.name, columns=batch.name, values=order.name)\n",
    "                 .pipe(func) # min used to convert to pandas Series.\n",
    "                 .astype(int)) \n",
    "    return ext_order\n",
    "\n",
    "\n",
    "def check_qc_prevalence(data_matrix, order, batch, classes, qc_classes, sample_classes,\n",
    "                        thresh=0, min_n_qc=4):\n",
    "\n",
    "    min_qc_order = get_ext_per_batch(data.order, data.batch,\n",
    "                                     data.classes, qc_classes, \"min\")\n",
    "    min_sample_order = get_ext_per_batch(data.order, data.batch,\n",
    "                                         data.classes, sample_classes, \"min\")\n",
    "    max_qc_order = get_ext_per_batch(data.order, data.batch,\n",
    "                                     data.classes, qc_classes, \"max\")\n",
    "    max_sample_order = get_ext_per_batch(data.order, data.batch,\n",
    "                                         data.classes, sample_classes, \"max\")\n",
    "    batches = batch.unique()\n",
    "    valid_features = data_matrix.columns\n",
    "    qc_mask = classes.isin(qc_classes)\n",
    "    qc_per_batch = classes[qc_mask].groupby(batch[qc_mask]).count()\n",
    "\n",
    "    for k_batch in batches:\n",
    "        # feature check is done for each batch in three parts:\n",
    "        # | start block | middle block      | end block |\n",
    "        #   q   q         ssss q ssss q ssss  q  q\n",
    "        #  where q is a qc sample and s is a biological sample\n",
    "        # in the start block, a feature is valid if is detected\n",
    "        # in at least one sample of the block\n",
    "        # in the middle block, a feature is valid if the number\n",
    "        # of qc samples where the feature was detected is greater\n",
    "        # than the total number of qc samples in the block minus the\n",
    "        # n_missing parameter\n",
    "        # in the end block the same strategy applied in the start\n",
    "        # block is used.\n",
    "        # A feature is considered valid only if is valid in the totallity\n",
    "        # of the batches\n",
    "        # start block check\n",
    "        start_block_qc_samples = (order[(order >= min_qc_order[k_batch])\n",
    "                                        & (order < min_sample_order[k_batch])\n",
    "                                        & data.classes.isin(qc_classes)]\n",
    "                                  .index)\n",
    "        start_block_valid_features = (data.data_matrix.loc[start_block_qc_samples] > thresh).any()\n",
    "        start_block_valid_features = start_block_valid_features[start_block_valid_features].index\n",
    "        \n",
    "        valid_features = valid_features.intersection(start_block_valid_features)\n",
    "    \n",
    "        \n",
    "        # middle block check\n",
    "        middle_block_qc_samples = (order[(order > min_sample_order[k_batch])\n",
    "                                         & (order < max_sample_order[k_batch])\n",
    "                                         & data.classes.isin(qc_classes)]\n",
    "                                   .index)\n",
    "        middle_block_valid_features = ((data.data_matrix\n",
    "                                        .loc[middle_block_qc_samples] > thresh)\n",
    "                                       .sum() >= min_n_qc)\n",
    "        middle_block_valid_features = middle_block_valid_features[middle_block_valid_features].index\n",
    "        valid_features = valid_features.intersection(middle_block_valid_features)\n",
    "        \n",
    "        # end block check\n",
    "        end_block_qc_samples = (order[(order > max_sample_order[k_batch])\n",
    "                                      & (order <= max_qc_order[k_batch])\n",
    "                                      & data.classes.isin(qc_classes)]\n",
    "                                .index)\n",
    "        end_block_valid_features = (data.data_matrix.loc[end_block_qc_samples] > thresh).any()\n",
    "        end_block_valid_features = end_block_valid_features[end_block_valid_features].index\n",
    "        valid_features = valid_features.intersection(end_block_valid_features)\n",
    "        \n",
    "    \n",
    "    invalid_features = data_matrix.columns.difference(valid_features)\n",
    "    \n",
    "    return invalid_features"
   ]
  },
  {
   "cell_type": "code",
   "execution_count": null,
   "metadata": {},
   "outputs": [],
   "source": [
    "%%time\n",
    "a = check_qc_prevalence(data.data_matrix, data.order, data.batch, data.classes, qc_classes, sample_classes)"
   ]
  },
  {
   "cell_type": "code",
   "execution_count": null,
   "metadata": {},
   "outputs": [],
   "source": [
    "qc_cv_per_batch = (data.data_matrix\n",
    "                   .groupby(data.classes)\n",
    "                   .filter(lambda x: x.name in [\"QC\"])\n",
    "                   .groupby(data.batch)\n",
    "                   .apply(mfv.utils.cv))"
   ]
  },
  {
   "cell_type": "code",
   "execution_count": null,
   "metadata": {},
   "outputs": [],
   "source": [
    "qc_cv_per_batch"
   ]
  },
  {
   "cell_type": "code",
   "execution_count": null,
   "metadata": {},
   "outputs": [],
   "source": [
    "qc_cv_per_batch.idxmax().value_counts()"
   ]
  },
  {
   "cell_type": "code",
   "execution_count": null,
   "metadata": {},
   "outputs": [],
   "source": [
    "# fig, ax = plt.subplots(figsize=(12, 8))\n",
    "data.data_matrix.groupby([data.batch, data.classes]).apply(mfv.utils.cv) #.min().hist(bins=100, ax=ax)\n",
    "# ax.set_xlim(0, 1)"
   ]
  },
  {
   "cell_type": "code",
   "execution_count": null,
   "metadata": {},
   "outputs": [],
   "source": [
    "data.sample_metadata = data.sample_metadata.sort_values(\"order\")\n",
    "data.data_matrix = data.data_matrix.loc[data.sample_metadata.index, :]"
   ]
  },
  {
   "cell_type": "code",
   "execution_count": null,
   "metadata": {},
   "outputs": [],
   "source": [
    "from statsmodels.nonparametric.smoothers_lowess import lowess\n",
    "from scipy.interpolate import CubicSpline\n",
    "\n",
    "def _coov_loess(x, y, interpolator, frac=None) -> tuple:\n",
    "    \"\"\"\n",
    "    Helper function for batch_correction. Computes loess correction with LOOCV.\n",
    "\n",
    "    Parameters\n",
    "    ----------\n",
    "    x: pd.Series\n",
    "        Feature intensities\n",
    "    frac: float, optional\n",
    "        fraction of sample to use in LOESS correction. If None, determines the\n",
    "        best value using LOOCV.\n",
    "    interpolator = callable\n",
    "        interpolator function used to predict new values.\n",
    "    Returns\n",
    "    -------\n",
    "    frac: float.\n",
    "        Best frac found by LOOCV\n",
    "    corrected: pd.Series\n",
    "        LOESS corrected data\n",
    "    \"\"\"\n",
    "    if frac is None:\n",
    "        # valid frac values, from 4/N to 1/N, where N is the number of corrector\n",
    "        # samples.\n",
    "        frac_list = [k / x.size for k in range(4, x.size + 1)]\n",
    "        rms = np.inf    # initial value for root mean square error\n",
    "        best_frac = 1\n",
    "        for frac in frac_list:\n",
    "            curr_rms = 0\n",
    "            for loocv_index in x.index[1:-1]:\n",
    "                y_temp = y.drop(loocv_index)\n",
    "                x_temp = x.drop(loocv_index)\n",
    "                y_loess = lowess(y_temp, x_temp, return_sorted=False, frac=frac)\n",
    "                interp = interpolator(x_temp, y_loess)\n",
    "                curr_rms += (y[loocv_index] - interp(x[loocv_index])) ** 2\n",
    "            if rms > curr_rms:\n",
    "                best_frac = frac\n",
    "                rms = curr_rms\n",
    "        frac = best_frac\n",
    "    return lowess(y, x, return_sorted=False, frac=frac)\n",
    "\n",
    "def batch_corrector_func(df_batch, order, classes, frac, interpolator, qc_classes, sample_classes):\n",
    "    qc_index = classes.isin(qc_classes)\n",
    "    qc_index = qc_index[qc_index].index\n",
    "    sample_index = classes.isin(sample_classes)\n",
    "    sample_index = sample_index[sample_index].index\n",
    "    df_batch.loc[sample_index, :] = (df_batch\n",
    "                                     .apply(lambda x: loess_interp(x, order, qc_index,\n",
    "                                                                   sample_index, frac, interpolator)))\n",
    "    return df_batch\n",
    "    \n",
    "\n",
    "def loess_interp(ft_data, order, qc_index, sample_index, frac, interpolator):\n",
    "    qc_loess = _coov_loess(order[qc_index], ft_data[qc_index], interpolator, frac=frac)\n",
    "    interp = interpolator(order[qc_index], qc_loess)\n",
    "    ft_data[sample_index] = interp(order[sample_index])\n",
    "    return ft_data\n",
    "\n",
    "def intebatch_correction(df_group, order, batch, classes, qc_index, sample_indx, frac, intepolator):\n",
    "    batch_order = order[batch == df_group.name]\n",
    "    batch_classes = classes[batch == df_group.name]\n",
    "    \n",
    "\n"
   ]
  },
  {
   "cell_type": "code",
   "execution_count": null,
   "metadata": {},
   "outputs": [],
   "source": [
    "%%time\n",
    "df_batch = data.data_matrix[data.batch == 1]\n",
    "order_batch = data.order[data.batch == 1]\n",
    "classes_batch = data.classes[data.batch == 1]\n",
    "qc_classes = [\"QC\"]\n",
    "sample_classes = ['CS', 'EI', 'EII', 'EIII', 'EIV', 'EI2', 'EII2', 'EIII2', 'EIV2', 'Crb', 'Pa', \"QC\"]\n",
    "batch_corrector_func(df_batch, order_batch, classes_batch, None, CubicSpline, qc_classes, sample_classes)"
   ]
  },
  {
   "cell_type": "code",
   "execution_count": null,
   "metadata": {},
   "outputs": [],
   "source": [
    "y = data.data_matrix.loc[(data.batch == 1) & (data.classes == \"QC\"), \"0.04_304.9041n\"]\n",
    "x = data.order[y.index]\n",
    "y_loess = _coov_loess(x, y, interpolator=CubicSpline)\n",
    "\n",
    "fig, ax = plt.subplots(figsize=(12, 8))\n",
    "ax.plot(x, y)\n",
    "ax.plot(x, y_loess)"
   ]
  },
  {
   "cell_type": "code",
   "execution_count": null,
   "metadata": {},
   "outputs": [],
   "source": [
    "a = df_batch[classes_batch == \"QC\"]\n",
    "acv = a.std() / a.mean()\n",
    "b = data.data_matrix[(data.batch == 1) & (data.classes == \"QC\")]\n",
    "bcv = b.std() / b.mean()\n",
    "bcv = bcv[acv.index]\n",
    "acv = acv[acv > bcv]"
   ]
  },
  {
   "cell_type": "code",
   "execution_count": null,
   "metadata": {},
   "outputs": [],
   "source": [
    "a = df_batch.loc[classes_batch == \"QC\", acv.index]\n",
    "a.mean().hist()"
   ]
  },
  {
   "cell_type": "code",
   "execution_count": null,
   "metadata": {},
   "outputs": [],
   "source": []
  }
 ],
 "metadata": {
  "kernelspec": {
   "display_name": "Python 3",
   "language": "python",
   "name": "python3"
  },
  "language_info": {
   "codemirror_mode": {
    "name": "ipython",
    "version": 3
   },
   "file_extension": ".py",
   "mimetype": "text/x-python",
   "name": "python",
   "nbconvert_exporter": "python",
   "pygments_lexer": "ipython3",
   "version": "3.7.3"
  }
 },
 "nbformat": 4,
 "nbformat_minor": 2
}
